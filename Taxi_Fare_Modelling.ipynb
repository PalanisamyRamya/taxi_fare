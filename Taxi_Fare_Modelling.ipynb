{
  "nbformat": 4,
  "nbformat_minor": 0,
  "metadata": {
    "colab": {
      "name": "Taxi Fare Modelling.ipynb",
      "version": "0.3.2",
      "provenance": [],
      "collapsed_sections": []
    },
    "kernelspec": {
      "display_name": "Python 3",
      "language": "python",
      "name": "python3"
    }
  },
  "cells": [
    {
      "cell_type": "code",
      "metadata": {
        "id": "YhpNEfo8QERd",
        "colab_type": "code",
        "colab": {}
      },
      "source": [
        "\n",
        "import pandas as pd\n",
        "import numpy as np\n",
        "import matplotlib.pyplot as plt\n",
        "import seaborn as sns\n",
        "from datetime import datetime\n",
        "import calendar\n",
        "import warnings\n",
        "from math import sin, cos, sqrt, atan2, radians,asin\n",
        "import sys \n",
        "from sklearn.model_selection import train_test_split\n",
        "from sklearn.metrics import mean_squared_error\n",
        "from sklearn.linear_model import LinearRegression\n",
        "from sklearn.model_selection import GridSearchCV\n",
        "from sklearn.ensemble import RandomForestRegressor\n",
        "import lightgbm as lgb\n",
        "#import xgboost as xgb\n",
        "from sklearn.metrics import roc_auc_score\n",
        "#import xgboost as xgb\n",
        "from hyperopt import hp, fmin, tpe, STATUS_OK, Trials\n",
        "warnings.filterwarnings('ignore')\n",
        "import pickle\n",
        "from sklearn.externals import joblib"
      ],
      "execution_count": 0,
      "outputs": []
    },
    {
      "cell_type": "code",
      "metadata": {
        "id": "yUZZqApB-QZ0",
        "colab_type": "code",
        "outputId": "8bda5f4d-451b-45dc-bb2a-8459da807cbb",
        "colab": {
          "base_uri": "https://localhost:8080/",
          "height": 121
        }
      },
      "source": [
        "from google.colab import drive\n",
        "drive.mount('/content/gdrive')"
      ],
      "execution_count": 0,
      "outputs": [
        {
          "output_type": "stream",
          "text": [
            "Go to this URL in a browser: https://accounts.google.com/o/oauth2/auth?client_id=947318989803-6bn6qk8qdgf4n4g3pfee6491hc0brc4i.apps.googleusercontent.com&redirect_uri=urn%3Aietf%3Awg%3Aoauth%3A2.0%3Aoob&scope=email%20https%3A%2F%2Fwww.googleapis.com%2Fauth%2Fdocs.test%20https%3A%2F%2Fwww.googleapis.com%2Fauth%2Fdrive%20https%3A%2F%2Fwww.googleapis.com%2Fauth%2Fdrive.photos.readonly%20https%3A%2F%2Fwww.googleapis.com%2Fauth%2Fpeopleapi.readonly&response_type=code\n",
            "\n",
            "Enter your authorization code:\n",
            "··········\n",
            "Mounted at /content/gdrive\n"
          ],
          "name": "stdout"
        }
      ]
    },
    {
      "cell_type": "code",
      "metadata": {
        "id": "BSRs6milJ2X6",
        "colab_type": "code",
        "colab": {}
      },
      "source": [
        "root_path = 'content/gdrive/My Drive/Colab Notebooks'"
      ],
      "execution_count": 0,
      "outputs": []
    },
    {
      "cell_type": "code",
      "metadata": {
        "id": "YlClpbgNRaRD",
        "colab_type": "code",
        "colab": {}
      },
      "source": [
        ""
      ],
      "execution_count": 0,
      "outputs": []
    },
    {
      "cell_type": "code",
      "metadata": {
        "id": "E1ypCIoVKAsj",
        "colab_type": "code",
        "outputId": "4df37c40-2d44-452f-84dc-d52140b42841",
        "colab": {
          "resources": {
            "http://localhost:8080/nbextensions/google.colab/files.js": {
              "data": "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",
              "ok": true,
              "headers": [
                [
                  "content-type",
                  "application/javascript"
                ]
              ],
              "status": 200,
              "status_text": ""
            }
          },
          "base_uri": "https://localhost:8080/",
          "height": 91
        }
      },
      "source": [
        "from google.colab import files\n",
        "files.upload() "
      ],
      "execution_count": 0,
      "outputs": [
        {
          "output_type": "display_data",
          "data": {
            "text/html": [
              "\n",
              "     <input type=\"file\" id=\"files-1f322e16-f146-48fe-bc55-73df76afe6b3\" name=\"files[]\" multiple disabled />\n",
              "     <output id=\"result-1f322e16-f146-48fe-bc55-73df76afe6b3\">\n",
              "      Upload widget is only available when the cell has been executed in the\n",
              "      current browser session. Please rerun this cell to enable.\n",
              "      </output>\n",
              "      <script src=\"/nbextensions/google.colab/files.js\"></script> "
            ],
            "text/plain": [
              "<IPython.core.display.HTML object>"
            ]
          },
          "metadata": {
            "tags": []
          }
        },
        {
          "output_type": "stream",
          "text": [
            "Saving kaggle.json to kaggle.json\n"
          ],
          "name": "stdout"
        },
        {
          "output_type": "execute_result",
          "data": {
            "text/plain": [
              "{'kaggle.json': b'{\"username\":\"pradeepramaraj\",\"key\":\"8eaf1cbb1eb37c4de173153c7b593822\"}'}"
            ]
          },
          "metadata": {
            "tags": []
          },
          "execution_count": 13
        }
      ]
    },
    {
      "cell_type": "code",
      "metadata": {
        "id": "f7df154DKPiZ",
        "colab_type": "code",
        "outputId": "f6711f5a-399b-472a-bed3-5bf4cec38b6f",
        "colab": {
          "base_uri": "https://localhost:8080/",
          "height": 34
        }
      },
      "source": [
        "!mkdir -p ~/.kaggle\n",
        "!cp kaggle.json ~/.kaggle/\n",
        "!ls ~/.kaggle\n",
        "!chmod 600 /root/.kaggle/kaggle.json  # set permission\n"
      ],
      "execution_count": 0,
      "outputs": [
        {
          "output_type": "stream",
          "text": [
            "kaggle.json\n"
          ],
          "name": "stdout"
        }
      ]
    },
    {
      "cell_type": "code",
      "metadata": {
        "id": "CfbThvlu-SBQ",
        "colab_type": "code",
        "outputId": "136d2e4e-3bed-4071-f7b1-f9747b677346",
        "colab": {
          "base_uri": "https://localhost:8080/",
          "height": 34
        }
      },
      "source": [
        "test=pd.read_csv(\"/content/gdrive/My Drive/test.csv\")\n",
        "print(\"Shape of Testing Data\", test.shape)"
      ],
      "execution_count": 0,
      "outputs": [
        {
          "output_type": "stream",
          "text": [
            "Shape of Testing Data (9914, 7)\n"
          ],
          "name": "stdout"
        }
      ]
    },
    {
      "cell_type": "code",
      "metadata": {
        "id": "iS8XYkcGQERh",
        "colab_type": "code",
        "outputId": "240f0333-c2f5-4bb9-eced-7e0c5b883ba9",
        "colab": {
          "base_uri": "https://localhost:8080/",
          "height": 50
        }
      },
      "source": [
        "train=pd.read_csv(\"gdrive/My Drive/train.csv\",nrows=1000000)\n",
        "print(\"Shape of Training Data\",train.shape)\n",
        "test=pd.read_csv(\"gdrive/My Drive/test.csv\")\n",
        "print(\"/content/gdrive/My Drive/Shape of Testing Data\", test.shape)\n"
      ],
      "execution_count": 0,
      "outputs": [
        {
          "output_type": "stream",
          "text": [
            "Shape of Training Data (1000000, 8)\n",
            "/content/gdrive/My Drive/Shape of Testing Data (9914, 7)\n"
          ],
          "name": "stdout"
        }
      ]
    },
    {
      "cell_type": "code",
      "metadata": {
        "id": "D3EB6BCdQERm",
        "colab_type": "code",
        "outputId": "997f27a6-77da-4ebc-b9fd-5d51995e8580",
        "colab": {
          "base_uri": "https://localhost:8080/",
          "height": 403
        }
      },
      "source": [
        "test=pd.read_csv(\"gdrive/My Drive/test.csv\")\n",
        "print(test.head(10))"
      ],
      "execution_count": 0,
      "outputs": [
        {
          "output_type": "stream",
          "text": [
            "                           key          pickup_datetime  pickup_longitude  \\\n",
            "0  2015-01-27 13:08:24.0000002  2015-01-27 13:08:24 UTC        -73.973320   \n",
            "1  2015-01-27 13:08:24.0000003  2015-01-27 13:08:24 UTC        -73.986862   \n",
            "2  2011-10-08 11:53:44.0000002  2011-10-08 11:53:44 UTC        -73.982524   \n",
            "3  2012-12-01 21:12:12.0000002  2012-12-01 21:12:12 UTC        -73.981160   \n",
            "4  2012-12-01 21:12:12.0000003  2012-12-01 21:12:12 UTC        -73.966046   \n",
            "5  2012-12-01 21:12:12.0000005  2012-12-01 21:12:12 UTC        -73.960983   \n",
            "6  2011-10-06 12:10:20.0000001  2011-10-06 12:10:20 UTC        -73.949013   \n",
            "7  2011-10-06 12:10:20.0000003  2011-10-06 12:10:20 UTC        -73.777282   \n",
            "8  2011-10-06 12:10:20.0000002  2011-10-06 12:10:20 UTC        -74.014099   \n",
            "9  2014-02-18 15:22:20.0000002  2014-02-18 15:22:20 UTC        -73.969582   \n",
            "\n",
            "   pickup_latitude  dropoff_longitude  dropoff_latitude  passenger_count  \n",
            "0        40.763805         -73.981430         40.743835                1  \n",
            "1        40.719383         -73.998886         40.739201                1  \n",
            "2        40.751260         -73.979654         40.746139                1  \n",
            "3        40.767807         -73.990448         40.751635                1  \n",
            "4        40.789775         -73.988565         40.744427                1  \n",
            "5        40.765547         -73.979177         40.740053                1  \n",
            "6        40.773204         -73.959622         40.770893                1  \n",
            "7        40.646636         -73.985083         40.759368                1  \n",
            "8        40.709638         -73.995106         40.741365                1  \n",
            "9        40.765519         -73.980686         40.770725                1  \n"
          ],
          "name": "stdout"
        }
      ]
    },
    {
      "cell_type": "code",
      "metadata": {
        "id": "jpsi_MtjQERp",
        "colab_type": "code",
        "colab": {}
      },
      "source": [
        "def encodeDays(day_of_week):\n",
        "    day_dict={'Sunday':0,'Monday':1,'Tuesday':2,'Wednesday':3,'Thursday':4,'Friday':5,'Saturday':6}\n",
        "    return day_dict[day_of_week]\n",
        "def clean_data(data):\n",
        "    boundary={'min_lng':-74.263242,\n",
        "              'min_lat':40.573143,\n",
        "              'max_lng':-72.986532, \n",
        "              'max_lat':41.709555}\n",
        "    \n",
        "    data['pickup_datetime']=pd.to_datetime(data['pickup_datetime'],format='%Y-%m-%d %H:%M:%S UTC')\n",
        "    data['pickup_day']=data['pickup_datetime'].apply(lambda x:x.day)\n",
        "    data['pickup_hour']=data['pickup_datetime'].apply(lambda x:x.hour)\n",
        "    data['pickup_day_of_week']=data['pickup_datetime'].apply(lambda x:calendar.day_name[x.weekday()])\n",
        "    data['pickup_month']=data['pickup_datetime'].apply(lambda x:x.month)\n",
        "    data['pickup_year']=data['pickup_datetime'].apply(lambda x:x.year)\n",
        "    if 'fare_amount' in data.columns:\n",
        "        data=data[data['fare_amount']>=0]\n",
        "        data.loc[~((data.pickup_longitude >= boundary['min_lng'] ) & (data.pickup_longitude <= boundary['max_lng']) &\n",
        "            (data.pickup_latitude >= boundary['min_lat']) & (data.pickup_latitude <= boundary['max_lat']) &\n",
        "            (data.dropoff_longitude >= boundary['min_lng']) & (data.dropoff_longitude <= boundary['max_lng']) &\n",
        "            (data.dropoff_latitude >=boundary['min_lat']) & (data.dropoff_latitude <= boundary['max_lat'])),'is_outlier_loc']=1\n",
        "        data.loc[((data.pickup_longitude >= boundary['min_lng'] ) & (data.pickup_longitude <= boundary['max_lng']) &\n",
        "            (data.pickup_latitude >= boundary['min_lat']) & (data.pickup_latitude <= boundary['max_lat']) &\n",
        "            (data.dropoff_longitude >= boundary['min_lng']) & (data.dropoff_longitude <= boundary['max_lng']) &\n",
        "            (data.dropoff_latitude >=boundary['min_lat']) & (data.dropoff_latitude <= boundary['max_lat'])),'is_outlier_loc']=0\n",
        "\n",
        "    #print(\"Outlier vs Non Outlier Counts\")\n",
        "    #print(data['is_outlier_loc'].value_counts())\n",
        "\n",
        "    # Let us drop rows, where location is outlier\n",
        "        data=data.loc[data['is_outlier_loc']==0]\n",
        "        data.drop(['is_outlier_loc'],axis=1,inplace=True)\n",
        "    \n",
        "    data=data[data['passenger_count']<=8]\n",
        "    data['pickup_day_of_week']=data['pickup_day_of_week'].apply(lambda x:encodeDays(x))\n",
        "    return data"
      ],
      "execution_count": 0,
      "outputs": []
    },
    {
      "cell_type": "code",
      "metadata": {
        "id": "1P_QoNeNQERr",
        "colab_type": "code",
        "outputId": "bfde1dad-072d-45ee-dec8-93846051d7d6",
        "colab": {
          "base_uri": "https://localhost:8080/",
          "height": 333
        }
      },
      "source": [
        "train=clean_data(train)\n",
        "test=clean_data(test)\n",
        "print(\"Shape of Training Data after cleaning \",train.shape)\n",
        "print(\"Shape of Testing Data after cleaning\", test.shape)\n",
        "train.head()"
      ],
      "execution_count": 0,
      "outputs": [
        {
          "output_type": "stream",
          "text": [
            "Shape of Training Data after cleaning  (978799, 13)\n",
            "Shape of Testing Data after cleaning (9914, 12)\n"
          ],
          "name": "stdout"
        },
        {
          "output_type": "execute_result",
          "data": {
            "text/html": [
              "<div>\n",
              "<style scoped>\n",
              "    .dataframe tbody tr th:only-of-type {\n",
              "        vertical-align: middle;\n",
              "    }\n",
              "\n",
              "    .dataframe tbody tr th {\n",
              "        vertical-align: top;\n",
              "    }\n",
              "\n",
              "    .dataframe thead th {\n",
              "        text-align: right;\n",
              "    }\n",
              "</style>\n",
              "<table border=\"1\" class=\"dataframe\">\n",
              "  <thead>\n",
              "    <tr style=\"text-align: right;\">\n",
              "      <th></th>\n",
              "      <th>key</th>\n",
              "      <th>fare_amount</th>\n",
              "      <th>pickup_datetime</th>\n",
              "      <th>pickup_longitude</th>\n",
              "      <th>pickup_latitude</th>\n",
              "      <th>dropoff_longitude</th>\n",
              "      <th>dropoff_latitude</th>\n",
              "      <th>passenger_count</th>\n",
              "      <th>pickup_day</th>\n",
              "      <th>pickup_hour</th>\n",
              "      <th>pickup_day_of_week</th>\n",
              "      <th>pickup_month</th>\n",
              "      <th>pickup_year</th>\n",
              "    </tr>\n",
              "  </thead>\n",
              "  <tbody>\n",
              "    <tr>\n",
              "      <th>0</th>\n",
              "      <td>2009-06-15 17:26:21.0000001</td>\n",
              "      <td>4.5</td>\n",
              "      <td>2009-06-15 17:26:21</td>\n",
              "      <td>-73.844311</td>\n",
              "      <td>40.721319</td>\n",
              "      <td>-73.841610</td>\n",
              "      <td>40.712278</td>\n",
              "      <td>1</td>\n",
              "      <td>15</td>\n",
              "      <td>17</td>\n",
              "      <td>1</td>\n",
              "      <td>6</td>\n",
              "      <td>2009</td>\n",
              "    </tr>\n",
              "    <tr>\n",
              "      <th>1</th>\n",
              "      <td>2010-01-05 16:52:16.0000002</td>\n",
              "      <td>16.9</td>\n",
              "      <td>2010-01-05 16:52:16</td>\n",
              "      <td>-74.016048</td>\n",
              "      <td>40.711303</td>\n",
              "      <td>-73.979268</td>\n",
              "      <td>40.782004</td>\n",
              "      <td>1</td>\n",
              "      <td>5</td>\n",
              "      <td>16</td>\n",
              "      <td>2</td>\n",
              "      <td>1</td>\n",
              "      <td>2010</td>\n",
              "    </tr>\n",
              "    <tr>\n",
              "      <th>2</th>\n",
              "      <td>2011-08-18 00:35:00.00000049</td>\n",
              "      <td>5.7</td>\n",
              "      <td>2011-08-18 00:35:00</td>\n",
              "      <td>-73.982738</td>\n",
              "      <td>40.761270</td>\n",
              "      <td>-73.991242</td>\n",
              "      <td>40.750562</td>\n",
              "      <td>2</td>\n",
              "      <td>18</td>\n",
              "      <td>0</td>\n",
              "      <td>4</td>\n",
              "      <td>8</td>\n",
              "      <td>2011</td>\n",
              "    </tr>\n",
              "    <tr>\n",
              "      <th>3</th>\n",
              "      <td>2012-04-21 04:30:42.0000001</td>\n",
              "      <td>7.7</td>\n",
              "      <td>2012-04-21 04:30:42</td>\n",
              "      <td>-73.987130</td>\n",
              "      <td>40.733143</td>\n",
              "      <td>-73.991567</td>\n",
              "      <td>40.758092</td>\n",
              "      <td>1</td>\n",
              "      <td>21</td>\n",
              "      <td>4</td>\n",
              "      <td>6</td>\n",
              "      <td>4</td>\n",
              "      <td>2012</td>\n",
              "    </tr>\n",
              "    <tr>\n",
              "      <th>4</th>\n",
              "      <td>2010-03-09 07:51:00.000000135</td>\n",
              "      <td>5.3</td>\n",
              "      <td>2010-03-09 07:51:00</td>\n",
              "      <td>-73.968095</td>\n",
              "      <td>40.768008</td>\n",
              "      <td>-73.956655</td>\n",
              "      <td>40.783762</td>\n",
              "      <td>1</td>\n",
              "      <td>9</td>\n",
              "      <td>7</td>\n",
              "      <td>2</td>\n",
              "      <td>3</td>\n",
              "      <td>2010</td>\n",
              "    </tr>\n",
              "  </tbody>\n",
              "</table>\n",
              "</div>"
            ],
            "text/plain": [
              "                             key  fare_amount     pickup_datetime  \\\n",
              "0    2009-06-15 17:26:21.0000001          4.5 2009-06-15 17:26:21   \n",
              "1    2010-01-05 16:52:16.0000002         16.9 2010-01-05 16:52:16   \n",
              "2   2011-08-18 00:35:00.00000049          5.7 2011-08-18 00:35:00   \n",
              "3    2012-04-21 04:30:42.0000001          7.7 2012-04-21 04:30:42   \n",
              "4  2010-03-09 07:51:00.000000135          5.3 2010-03-09 07:51:00   \n",
              "\n",
              "   pickup_longitude  pickup_latitude  dropoff_longitude  dropoff_latitude  \\\n",
              "0        -73.844311        40.721319         -73.841610         40.712278   \n",
              "1        -74.016048        40.711303         -73.979268         40.782004   \n",
              "2        -73.982738        40.761270         -73.991242         40.750562   \n",
              "3        -73.987130        40.733143         -73.991567         40.758092   \n",
              "4        -73.968095        40.768008         -73.956655         40.783762   \n",
              "\n",
              "   passenger_count  pickup_day  pickup_hour  pickup_day_of_week  pickup_month  \\\n",
              "0                1          15           17                   1             6   \n",
              "1                1           5           16                   2             1   \n",
              "2                2          18            0                   4             8   \n",
              "3                1          21            4                   6             4   \n",
              "4                1           9            7                   2             3   \n",
              "\n",
              "   pickup_year  \n",
              "0         2009  \n",
              "1         2010  \n",
              "2         2011  \n",
              "3         2012  \n",
              "4         2010  "
            ]
          },
          "metadata": {
            "tags": []
          },
          "execution_count": 19
        }
      ]
    },
    {
      "cell_type": "code",
      "metadata": {
        "id": "aKLco2d6QERt",
        "colab_type": "code",
        "colab": {}
      },
      "source": [
        "def processDataForModelling(data,target,drop_cols,is_train=True,split=0.25):\n",
        "    data_1=data.drop(drop_cols,axis=1)\n",
        "    # One hot Encoding\n",
        "    data_1=pd.get_dummies(data_1)\n",
        "    if is_train==True:\n",
        "        X=data_1.drop([target],axis=1)\n",
        "        y=data_1[target]\n",
        "        X_train, X_test, y_train, y_test = train_test_split(X,y, test_size=split,random_state=123)\n",
        "        \n",
        "        print(\"Shape of Training Features\",X_train.shape)\n",
        "        print(\"Shape of Validation Features \",X_test.shape)\n",
        "        \n",
        "        return X_train, X_test, y_train, y_test\n",
        "    else:\n",
        "        print (\"Shape of Test Data\",data_1.shape)\n",
        "        return data_1\n",
        "    \n",
        "    \n",
        "    "
      ],
      "execution_count": 0,
      "outputs": []
    },
    {
      "cell_type": "code",
      "metadata": {
        "id": "0LghF8QqQERv",
        "colab_type": "code",
        "outputId": "317da729-b31d-4f82-ad83-0d1070c63dfc",
        "colab": {
          "base_uri": "https://localhost:8080/",
          "height": 50
        }
      },
      "source": [
        "X_train, X_test, y_train, y_test=processDataForModelling(train,'fare_amount',drop_cols=['key','pickup_datetime'],is_train=True,split=0.2)"
      ],
      "execution_count": 0,
      "outputs": [
        {
          "output_type": "stream",
          "text": [
            "Shape of Training Features (783039, 10)\n",
            "Shape of Validation Features  (195760, 10)\n"
          ],
          "name": "stdout"
        }
      ]
    },
    {
      "cell_type": "code",
      "metadata": {
        "id": "6sutGGYjQERx",
        "colab_type": "code",
        "outputId": "9311b39a-29cb-4c2a-b596-da6e7819cfd6",
        "colab": {
          "base_uri": "https://localhost:8080/",
          "height": 34
        }
      },
      "source": [
        "test_data=processDataForModelling(test,'fare_amount',drop_cols=['key','pickup_datetime'],is_train=False)"
      ],
      "execution_count": 0,
      "outputs": [
        {
          "output_type": "stream",
          "text": [
            "Shape of Test Data (9914, 10)\n"
          ],
          "name": "stdout"
        }
      ]
    },
    {
      "cell_type": "code",
      "metadata": {
        "scrolled": true,
        "id": "BwsHmBvlQER0",
        "colab_type": "code",
        "outputId": "299487d1-7ab2-4f0e-f751-8691c00e371b",
        "colab": {
          "base_uri": "https://localhost:8080/",
          "height": 34
        }
      },
      "source": [
        "avg_fare=round(np.mean(y_train),2)\n",
        "avg_fare"
      ],
      "execution_count": 0,
      "outputs": [
        {
          "output_type": "execute_result",
          "data": {
            "text/plain": [
              "11.32"
            ]
          },
          "metadata": {
            "tags": []
          },
          "execution_count": 23
        }
      ]
    },
    {
      "cell_type": "code",
      "metadata": {
        "id": "OPwrv9obQER2",
        "colab_type": "code",
        "outputId": "f835ebba-df0e-4557-c572-24668525ecb5",
        "colab": {
          "base_uri": "https://localhost:8080/",
          "height": 34
        }
      },
      "source": [
        "baseline_pred=np.repeat(avg_fare,y_test.shape[0])\n",
        "baseline_rmse=np.sqrt(mean_squared_error(baseline_pred, y_test))\n",
        "print(\"Basline RMSE of Validation data :\",baseline_rmse)"
      ],
      "execution_count": 0,
      "outputs": [
        {
          "output_type": "stream",
          "text": [
            "Basline RMSE of Validation data : 9.659505711183623\n"
          ],
          "name": "stdout"
        }
      ]
    },
    {
      "cell_type": "code",
      "metadata": {
        "id": "T2I1SynB-y_W",
        "colab_type": "code",
        "outputId": "0469af68-4d4a-404e-ae8d-44dbe0b788cb",
        "colab": {
          "base_uri": "https://localhost:8080/",
          "height": 118
        }
      },
      "source": [
        "y_test.head()"
      ],
      "execution_count": 0,
      "outputs": [
        {
          "output_type": "execute_result",
          "data": {
            "text/plain": [
              "755709    32.1\n",
              "248836     6.5\n",
              "829574    14.9\n",
              "332657     9.5\n",
              "940304    11.0\n",
              "Name: fare_amount, dtype: float64"
            ]
          },
          "metadata": {
            "tags": []
          },
          "execution_count": 31
        }
      ]
    },
    {
      "cell_type": "code",
      "metadata": {
        "id": "YVrarFbe-5KY",
        "colab_type": "code",
        "outputId": "a468c100-f01f-4f68-ec7b-4011ca4396e1",
        "colab": {
          "base_uri": "https://localhost:8080/",
          "height": 364
        }
      },
      "source": [
        "sns.kdeplot(y_test,label='actual fare amount')\n",
        "sns.kdeplot(baseline_pred,label='predicted fare amount')"
      ],
      "execution_count": 0,
      "outputs": [
        {
          "output_type": "execute_result",
          "data": {
            "text/plain": [
              "<matplotlib.axes._subplots.AxesSubplot at 0x7f00df467ba8>"
            ]
          },
          "metadata": {
            "tags": []
          },
          "execution_count": 32
        },
        {
          "output_type": "display_data",
          "data": {
            "image/png": "[encoded data removed]",
            "text/plain": [
              "<Figure size 576x396 with 1 Axes>"
            ]
          },
          "metadata": {
            "tags": []
          }
        }
      ]
    },
    {
      "cell_type": "markdown",
      "metadata": {
        "id": "t-eZ1ZtWQER5",
        "colab_type": "text"
      },
      "source": [
        "##### Build a Linear Regression Model "
      ]
    },
    {
      "cell_type": "code",
      "metadata": {
        "id": "A5HP5c0HQER6",
        "colab_type": "code",
        "outputId": "7b6031ab-106c-4c0c-8166-3618765246ed",
        "colab": {
          "base_uri": "https://localhost:8080/",
          "height": 195
        }
      },
      "source": [
        "lm = LinearRegression()\n",
        "lm.fit(X_train,y_train)\n",
        "X_test.head()\n"
      ],
      "execution_count": 0,
      "outputs": [
        {
          "output_type": "execute_result",
          "data": {
            "text/html": [
              "<div>\n",
              "<style scoped>\n",
              "    .dataframe tbody tr th:only-of-type {\n",
              "        vertical-align: middle;\n",
              "    }\n",
              "\n",
              "    .dataframe tbody tr th {\n",
              "        vertical-align: top;\n",
              "    }\n",
              "\n",
              "    .dataframe thead th {\n",
              "        text-align: right;\n",
              "    }\n",
              "</style>\n",
              "<table border=\"1\" class=\"dataframe\">\n",
              "  <thead>\n",
              "    <tr style=\"text-align: right;\">\n",
              "      <th></th>\n",
              "      <th>pickup_longitude</th>\n",
              "      <th>pickup_latitude</th>\n",
              "      <th>dropoff_longitude</th>\n",
              "      <th>dropoff_latitude</th>\n",
              "      <th>passenger_count</th>\n",
              "      <th>pickup_day</th>\n",
              "      <th>pickup_hour</th>\n",
              "      <th>pickup_day_of_week</th>\n",
              "      <th>pickup_month</th>\n",
              "      <th>pickup_year</th>\n",
              "    </tr>\n",
              "  </thead>\n",
              "  <tbody>\n",
              "    <tr>\n",
              "      <th>755709</th>\n",
              "      <td>-73.980303</td>\n",
              "      <td>40.742571</td>\n",
              "      <td>-74.012098</td>\n",
              "      <td>40.612974</td>\n",
              "      <td>1</td>\n",
              "      <td>9</td>\n",
              "      <td>23</td>\n",
              "      <td>5</td>\n",
              "      <td>9</td>\n",
              "      <td>2011</td>\n",
              "    </tr>\n",
              "    <tr>\n",
              "      <th>248836</th>\n",
              "      <td>-73.988173</td>\n",
              "      <td>40.734710</td>\n",
              "      <td>-74.000857</td>\n",
              "      <td>40.729682</td>\n",
              "      <td>1</td>\n",
              "      <td>26</td>\n",
              "      <td>14</td>\n",
              "      <td>6</td>\n",
              "      <td>11</td>\n",
              "      <td>2011</td>\n",
              "    </tr>\n",
              "    <tr>\n",
              "      <th>829574</th>\n",
              "      <td>-73.992230</td>\n",
              "      <td>40.719905</td>\n",
              "      <td>-73.988146</td>\n",
              "      <td>40.756420</td>\n",
              "      <td>1</td>\n",
              "      <td>1</td>\n",
              "      <td>3</td>\n",
              "      <td>0</td>\n",
              "      <td>11</td>\n",
              "      <td>2009</td>\n",
              "    </tr>\n",
              "    <tr>\n",
              "      <th>332657</th>\n",
              "      <td>-73.978058</td>\n",
              "      <td>40.752331</td>\n",
              "      <td>-73.987442</td>\n",
              "      <td>40.768589</td>\n",
              "      <td>1</td>\n",
              "      <td>9</td>\n",
              "      <td>21</td>\n",
              "      <td>4</td>\n",
              "      <td>4</td>\n",
              "      <td>2015</td>\n",
              "    </tr>\n",
              "    <tr>\n",
              "      <th>940304</th>\n",
              "      <td>-73.991594</td>\n",
              "      <td>40.749893</td>\n",
              "      <td>-73.973093</td>\n",
              "      <td>40.758296</td>\n",
              "      <td>1</td>\n",
              "      <td>10</td>\n",
              "      <td>8</td>\n",
              "      <td>3</td>\n",
              "      <td>10</td>\n",
              "      <td>2012</td>\n",
              "    </tr>\n",
              "  </tbody>\n",
              "</table>\n",
              "</div>"
            ],
            "text/plain": [
              "        pickup_longitude  pickup_latitude  dropoff_longitude  \\\n",
              "755709        -73.980303        40.742571         -74.012098   \n",
              "248836        -73.988173        40.734710         -74.000857   \n",
              "829574        -73.992230        40.719905         -73.988146   \n",
              "332657        -73.978058        40.752331         -73.987442   \n",
              "940304        -73.991594        40.749893         -73.973093   \n",
              "\n",
              "        dropoff_latitude  passenger_count  pickup_day  pickup_hour  \\\n",
              "755709         40.612974                1           9           23   \n",
              "248836         40.729682                1          26           14   \n",
              "829574         40.756420                1           1            3   \n",
              "332657         40.768589                1           9           21   \n",
              "940304         40.758296                1          10            8   \n",
              "\n",
              "        pickup_day_of_week  pickup_month  pickup_year  \n",
              "755709                   5             9         2011  \n",
              "248836                   6            11         2011  \n",
              "829574                   0            11         2009  \n",
              "332657                   4             4         2015  \n",
              "940304                   3            10         2012  "
            ]
          },
          "metadata": {
            "tags": []
          },
          "execution_count": 25
        }
      ]
    },
    {
      "cell_type": "code",
      "metadata": {
        "id": "GuKDRBUPQER_",
        "colab_type": "code",
        "colab": {}
      },
      "source": [
        "pickle.dump(lm, open(\"gdrive/My Drive/LR.sav\", 'wb'))"
      ],
      "execution_count": 0,
      "outputs": []
    },
    {
      "cell_type": "code",
      "metadata": {
        "id": "-k4UoZNlQESB",
        "colab_type": "code",
        "colab": {}
      },
      "source": [
        "lm=pickle.load(open('gdrive/My Drive/LR.sav', 'rb'))"
      ],
      "execution_count": 0,
      "outputs": []
    },
    {
      "cell_type": "code",
      "metadata": {
        "id": "6yIq_Q35QESF",
        "colab_type": "code",
        "outputId": "e05895af-56f7-45ed-c484-dfa0514fce64",
        "colab": {
          "base_uri": "https://localhost:8080/",
          "height": 34
        }
      },
      "source": [
        "y_pred=np.round(lm.predict(X_test),2)\n",
        "\n",
        "\n",
        "lm_rmse=np.sqrt(mean_squared_error(y_pred, y_test))\n",
        "print(\"RMSE for Linear Regression is \",lm_rmse)"
      ],
      "execution_count": 0,
      "outputs": [
        {
          "output_type": "stream",
          "text": [
            "RMSE for Linear Regression is  8.219077313138138\n"
          ],
          "name": "stdout"
        }
      ]
    },
    {
      "cell_type": "code",
      "metadata": {
        "id": "nXtf0JCC7vKC",
        "colab_type": "code",
        "outputId": "82cb6c9e-b7f0-4112-ef9c-98fb456d871a",
        "colab": {
          "base_uri": "https://localhost:8080/",
          "height": 118
        }
      },
      "source": [
        "y_test.head()"
      ],
      "execution_count": 0,
      "outputs": [
        {
          "output_type": "execute_result",
          "data": {
            "text/plain": [
              "755709    32.1\n",
              "248836     6.5\n",
              "829574    14.9\n",
              "332657     9.5\n",
              "940304    11.0\n",
              "Name: fare_amount, dtype: float64"
            ]
          },
          "metadata": {
            "tags": []
          },
          "execution_count": 29
        }
      ]
    },
    {
      "cell_type": "code",
      "metadata": {
        "id": "bxUYuaAK2wzF",
        "colab_type": "code",
        "outputId": "45cc0d2a-069e-4166-f558-9a16225cbd7e",
        "colab": {
          "base_uri": "https://localhost:8080/",
          "height": 364
        }
      },
      "source": [
        "sns.kdeplot(y_test,label='actual fare amount')\n",
        "sns.kdeplot(y_pred,label='predicted fare amount')"
      ],
      "execution_count": 0,
      "outputs": [
        {
          "output_type": "execute_result",
          "data": {
            "text/plain": [
              "<matplotlib.axes._subplots.AxesSubplot at 0x7f00e35f82b0>"
            ]
          },
          "metadata": {
            "tags": []
          },
          "execution_count": 30
        },
        {
          "output_type": "display_data",
          "data": {
            "image/png": "[encoded data removed]",
            "text/plain": [
              "<Figure size 576x396 with 1 Axes>"
            ]
          },
          "metadata": {
            "tags": []
          }
        }
      ]
    },
    {
      "cell_type": "markdown",
      "metadata": {
        "id": "_d6YVG7XQESJ",
        "colab_type": "text"
      },
      "source": [
        "##### Build a Random Forest Model "
      ]
    },
    {
      "cell_type": "code",
      "metadata": {
        "id": "g6WwjDVTQESK",
        "colab_type": "code",
        "outputId": "0402686a-2fd9-48fa-bf0c-22b83554a5f3",
        "colab": {
          "base_uri": "https://localhost:8080/",
          "height": 118
        }
      },
      "source": [
        "rf = RandomForestRegressor(n_estimators = 10, random_state = 883,n_jobs=-1)\n",
        "rf.fit(X_train,y_train)\n"
      ],
      "execution_count": 0,
      "outputs": [
        {
          "output_type": "execute_result",
          "data": {
            "text/plain": [
              "RandomForestRegressor(bootstrap=True, criterion='mse', max_depth=None,\n",
              "           max_features='auto', max_leaf_nodes=None,\n",
              "           min_impurity_decrease=0.0, min_impurity_split=None,\n",
              "           min_samples_leaf=1, min_samples_split=2,\n",
              "           min_weight_fraction_leaf=0.0, n_estimators=10, n_jobs=-1,\n",
              "           oob_score=False, random_state=883, verbose=0, warm_start=False)"
            ]
          },
          "metadata": {
            "tags": []
          },
          "execution_count": 20
        }
      ]
    },
    {
      "cell_type": "code",
      "metadata": {
        "id": "U4ews_XdQESS",
        "colab_type": "code",
        "outputId": "2a08d133-4ab7-4320-b791-b5c0a514d8fb",
        "colab": {
          "base_uri": "https://localhost:8080/",
          "height": 34
        }
      },
      "source": [
        "joblib.dump(rf,\"gdrive/My Drive/randomforest.sav\")"
      ],
      "execution_count": 0,
      "outputs": [
        {
          "output_type": "execute_result",
          "data": {
            "text/plain": [
              "['gdrive/My Drive/randomforest.sav']"
            ]
          },
          "metadata": {
            "tags": []
          },
          "execution_count": 21
        }
      ]
    },
    {
      "cell_type": "code",
      "metadata": {
        "id": "HUdLGziQQESV",
        "colab_type": "code",
        "outputId": "5de9908b-54b2-40e8-b6b8-9df59541bd68",
        "colab": {
          "base_uri": "https://localhost:8080/",
          "height": 34
        }
      },
      "source": [
        "rf=joblib.load('gdrive/My Drive/randomforest.sav')\n",
        "rf_pred= rf.predict(X_test)\n",
        "rf_rmse=np.sqrt(mean_squared_error(rf_pred, y_test))\n",
        "print(\"RMSE for Random Forest is \",rf_rmse)"
      ],
      "execution_count": 0,
      "outputs": [
        {
          "output_type": "stream",
          "text": [
            "RMSE for Random Forest is  4.168691338775206\n"
          ],
          "name": "stdout"
        }
      ]
    },
    {
      "cell_type": "markdown",
      "metadata": {
        "id": "xHXjg43o5-bh",
        "colab_type": "text"
      },
      "source": [
        ""
      ]
    },
    {
      "cell_type": "code",
      "metadata": {
        "id": "cTiIiVsRQESX",
        "colab_type": "code",
        "outputId": "256ebf05-0662-43f2-ddad-2cba08c377a8",
        "colab": {
          "base_uri": "https://localhost:8080/",
          "height": 118
        }
      },
      "source": [
        "y_test.head()"
      ],
      "execution_count": 0,
      "outputs": [
        {
          "output_type": "execute_result",
          "data": {
            "text/plain": [
              "755709    32.1\n",
              "248836     6.5\n",
              "829574    14.9\n",
              "332657     9.5\n",
              "940304    11.0\n",
              "Name: fare_amount, dtype: float64"
            ]
          },
          "metadata": {
            "tags": []
          },
          "execution_count": 23
        }
      ]
    },
    {
      "cell_type": "code",
      "metadata": {
        "scrolled": true,
        "id": "QGDXEM_MQESY",
        "colab_type": "code",
        "outputId": "b18552a0-cdca-41dd-ee06-ea4fb837bee2",
        "colab": {
          "base_uri": "https://localhost:8080/",
          "height": 364
        }
      },
      "source": [
        "sns.kdeplot(y_test,label='actual fare amount')\n",
        "sns.kdeplot(rf_pred,label='predicted fare amount')"
      ],
      "execution_count": 0,
      "outputs": [
        {
          "output_type": "execute_result",
          "data": {
            "text/plain": [
              "<matplotlib.axes._subplots.AxesSubplot at 0x7f33436f7e10>"
            ]
          },
          "metadata": {
            "tags": []
          },
          "execution_count": 24
        },
        {
          "output_type": "display_data",
          "data": {
            "image/png": "[encoded data removed]",
            "text/plain": [
              "<Figure size 576x396 with 1 Axes>"
            ]
          },
          "metadata": {
            "tags": []
          }
        }
      ]
    },
    {
      "cell_type": "markdown",
      "metadata": {
        "id": "7gxSOs04Cys9",
        "colab_type": "text"
      },
      "source": [
        "LIGHT GBM Model"
      ]
    },
    {
      "cell_type": "code",
      "metadata": {
        "id": "WLFuDHO98xEm",
        "colab_type": "code",
        "colab": {}
      },
      "source": [
        "train_data=lgb.Dataset(X_train,label=y_train)"
      ],
      "execution_count": 0,
      "outputs": []
    },
    {
      "cell_type": "code",
      "metadata": {
        "id": "m-sC8nyPCkYK",
        "colab_type": "code",
        "colab": {}
      },
      "source": [
        "param = {'num_leaves':31, 'num_trees':5000, 'objective':'regression'}\n",
        "param['metric'] = 'l2_root'"
      ],
      "execution_count": 0,
      "outputs": []
    },
    {
      "cell_type": "code",
      "metadata": {
        "id": "f4A8YdT4Cm40",
        "colab_type": "code",
        "outputId": "3ca71259-1bd0-4c8a-a8e4-c62c649ce478",
        "colab": {
          "base_uri": "https://localhost:8080/",
          "height": 890
        }
      },
      "source": [
        "num_round=2500\n",
        "cv_results = lgb.cv(param, train_data, num_boost_round=num_round, nfold=10,verbose_eval=20, early_stopping_rounds=20,stratified=False)"
      ],
      "execution_count": 0,
      "outputs": [
        {
          "output_type": "stream",
          "text": [
            "[20]\tcv_agg's rmse: 5.13734 + 0.142921\n",
            "[40]\tcv_agg's rmse: 4.59973 + 0.159981\n",
            "[60]\tcv_agg's rmse: 4.40223 + 0.170886\n",
            "[80]\tcv_agg's rmse: 4.31836 + 0.17379\n",
            "[100]\tcv_agg's rmse: 4.25714 + 0.178198\n",
            "[120]\tcv_agg's rmse: 4.21185 + 0.17957\n",
            "[140]\tcv_agg's rmse: 4.18207 + 0.182133\n",
            "[160]\tcv_agg's rmse: 4.15853 + 0.180007\n",
            "[180]\tcv_agg's rmse: 4.14102 + 0.178886\n",
            "[200]\tcv_agg's rmse: 4.12597 + 0.183815\n",
            "[220]\tcv_agg's rmse: 4.11433 + 0.183702\n",
            "[240]\tcv_agg's rmse: 4.1028 + 0.183575\n",
            "[260]\tcv_agg's rmse: 4.09358 + 0.184713\n",
            "[280]\tcv_agg's rmse: 4.08549 + 0.185113\n",
            "[300]\tcv_agg's rmse: 4.08069 + 0.184614\n",
            "[320]\tcv_agg's rmse: 4.07431 + 0.184242\n",
            "[340]\tcv_agg's rmse: 4.06553 + 0.183583\n",
            "[360]\tcv_agg's rmse: 4.06043 + 0.184821\n",
            "[380]\tcv_agg's rmse: 4.05618 + 0.185081\n",
            "[400]\tcv_agg's rmse: 4.05125 + 0.185163\n",
            "[420]\tcv_agg's rmse: 4.04626 + 0.186777\n",
            "[440]\tcv_agg's rmse: 4.04242 + 0.18815\n",
            "[460]\tcv_agg's rmse: 4.0394 + 0.188403\n",
            "[480]\tcv_agg's rmse: 4.03713 + 0.187888\n",
            "[500]\tcv_agg's rmse: 4.03412 + 0.188114\n",
            "[520]\tcv_agg's rmse: 4.03067 + 0.187667\n",
            "[540]\tcv_agg's rmse: 4.02827 + 0.188024\n",
            "[560]\tcv_agg's rmse: 4.02644 + 0.188211\n",
            "[580]\tcv_agg's rmse: 4.02451 + 0.188351\n",
            "[600]\tcv_agg's rmse: 4.02241 + 0.18767\n",
            "[620]\tcv_agg's rmse: 4.02072 + 0.187389\n",
            "[640]\tcv_agg's rmse: 4.02006 + 0.187019\n",
            "[660]\tcv_agg's rmse: 4.01817 + 0.187711\n",
            "[680]\tcv_agg's rmse: 4.01602 + 0.188181\n",
            "[700]\tcv_agg's rmse: 4.01577 + 0.18818\n",
            "[720]\tcv_agg's rmse: 4.01453 + 0.187161\n",
            "[740]\tcv_agg's rmse: 4.0131 + 0.187509\n",
            "[760]\tcv_agg's rmse: 4.01187 + 0.187269\n",
            "[780]\tcv_agg's rmse: 4.01131 + 0.187302\n",
            "[800]\tcv_agg's rmse: 4.01075 + 0.18723\n",
            "[820]\tcv_agg's rmse: 4.00965 + 0.187502\n",
            "[840]\tcv_agg's rmse: 4.00847 + 0.187605\n",
            "[860]\tcv_agg's rmse: 4.00786 + 0.187136\n",
            "[880]\tcv_agg's rmse: 4.00735 + 0.187416\n",
            "[900]\tcv_agg's rmse: 4.00625 + 0.187388\n",
            "[920]\tcv_agg's rmse: 4.00575 + 0.187223\n",
            "[940]\tcv_agg's rmse: 4.0047 + 0.187256\n",
            "[960]\tcv_agg's rmse: 4.0034 + 0.187686\n",
            "[980]\tcv_agg's rmse: 4.00294 + 0.187338\n",
            "[1000]\tcv_agg's rmse: 4.00268 + 0.187573\n",
            "[1020]\tcv_agg's rmse: 4.00224 + 0.187891\n",
            "[1040]\tcv_agg's rmse: 4.00223 + 0.187608\n"
          ],
          "name": "stdout"
        }
      ]
    },
    {
      "cell_type": "code",
      "metadata": {
        "id": "sh7C5YSxCrbM",
        "colab_type": "code",
        "outputId": "c6e3b802-9727-4403-836c-04384137f8ad",
        "colab": {
          "base_uri": "https://localhost:8080/",
          "height": 34
        }
      },
      "source": [
        "print('Best num_boost_round:', len(cv_results['rmse-mean']))\n",
        "#lgb_pred = lgb_bst.predict(X_test)"
      ],
      "execution_count": 0,
      "outputs": [
        {
          "output_type": "stream",
          "text": [
            "Best num_boost_round: 1034\n"
          ],
          "name": "stdout"
        }
      ]
    },
    {
      "cell_type": "code",
      "metadata": {
        "id": "B0KeOOJoJmEE",
        "colab_type": "code",
        "outputId": "6da26063-aa4e-4e22-ea6d-d024b0b22215",
        "colab": {
          "base_uri": "https://localhost:8080/",
          "height": 34
        }
      },
      "source": [
        "lgb_bst=lgb.train(param,train_data,len(cv_results['rmse-mean']))\n",
        "joblib.dump(lgb_bst, \"gdrive/My Drive/lgbm_with_no_featureEngineering.sav\")"
      ],
      "execution_count": 0,
      "outputs": [
        {
          "output_type": "execute_result",
          "data": {
            "text/plain": [
              "['gdrive/My Drive/lgbm_with_no_featureEngineering.sav']"
            ]
          },
          "metadata": {
            "tags": []
          },
          "execution_count": 30
        }
      ]
    },
    {
      "cell_type": "code",
      "metadata": {
        "id": "zBftNPJSCvbn",
        "colab_type": "code",
        "outputId": "8700c6e7-fac3-48b5-8432-a18c2438a5bd",
        "colab": {
          "base_uri": "https://localhost:8080/",
          "height": 34
        }
      },
      "source": [
        "lgb_bst=joblib.load('gdrive/My Drive/lgbm_with_no_featureEngineering.sav')\n",
        "\n",
        "\n",
        "lgb_pred = lgb_bst.predict(X_test)\n",
        "lgb_rmse=np.sqrt(mean_squared_error(lgb_pred, y_test))\n",
        "print(\"RMSE for Light GBM is \",lgb_rmse)"
      ],
      "execution_count": 0,
      "outputs": [
        {
          "output_type": "stream",
          "text": [
            "RMSE for Light GBM is  4.010645817660989\n"
          ],
          "name": "stdout"
        }
      ]
    },
    {
      "cell_type": "code",
      "metadata": {
        "id": "oIbyFr0MKich",
        "colab_type": "code",
        "outputId": "7ecf8096-d771-411f-d259-b2a09bd02758",
        "colab": {
          "base_uri": "https://localhost:8080/",
          "height": 364
        }
      },
      "source": [
        "sns.kdeplot(y_test,label='actual fare amount')\n",
        "sns.kdeplot(lgb_pred,label='predicted fare amount')"
      ],
      "execution_count": 0,
      "outputs": [
        {
          "output_type": "execute_result",
          "data": {
            "text/plain": [
              "<matplotlib.axes._subplots.AxesSubplot at 0x7f3344565b38>"
            ]
          },
          "metadata": {
            "tags": []
          },
          "execution_count": 32
        },
        {
          "output_type": "display_data",
          "data": {
            "image/png": "[encoded data removed]",
            "text/plain": [
              "<Figure size 576x396 with 1 Axes>"
            ]
          },
          "metadata": {
            "tags": []
          }
        }
      ]
    }
  ]
}